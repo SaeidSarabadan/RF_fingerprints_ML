{
  "cells": [
    {
      "cell_type": "markdown",
      "metadata": {
        "id": "zn7QXuFQgOFU"
      },
      "source": [
        "##**Import Package**"
      ]
    },
    {
      "cell_type": "code",
      "execution_count": 1,
      "metadata": {
        "id": "hyBScxsSgwBh"
      },
      "outputs": [],
      "source": [
        "#Enter the required package\n",
        "import pandas as pd\n",
        "import numpy as np\n",
        "from sklearn.svm import SVC\n",
        "from sklearn.svm import LinearSVC\n",
        "from sklearn.metrics import classification_report\n",
        "from sklearn import svm\n",
        "from sklearn.metrics import accuracy_score\n",
        "from sklearn import metrics\n",
        "import time"
      ]
    },
    {
      "cell_type": "markdown",
      "metadata": {
        "id": "5_-NxKVkvT98"
      },
      "source": [
        "# **Import Data**"
      ]
    },
    {
      "cell_type": "code",
      "execution_count": null,
      "metadata": {
        "id": "pKg6ZND8vbzB"
      },
      "outputs": [],
      "source": [
        "#import Data\n",
        "!gdown --id https://drive.google.com/file/d/1W7v3NevY_SgZoCnh78rEwUVyvk3X91Qv/view?usp=sharing"
      ]
    },
    {
      "cell_type": "code",
      "execution_count": 2,
      "metadata": {
        "colab": {
          "base_uri": "https://localhost:8080/",
          "height": 0
        },
        "id": "SSXKzea7R9-G",
        "outputId": "5115a2e3-f08f-4c76-dc56-36a17ec5c94d"
      },
      "outputs": [
        {
          "output_type": "stream",
          "name": "stdout",
          "text": [
            "Shape Data: (8000, 102)\n",
            "Shape Label: (8000,)\n",
            "Format and element of Label is: {'M3', 'M2', 'M1', 'M5'}\n"
          ]
        }
      ],
      "source": [
        "#read csv file\n",
        "dataset = pd.read_csv('Test1to5.csv')\n",
        "X = dataset.iloc[:,:-1].values\n",
        "y = dataset.iloc[:,-1].values\n",
        "print(f\"Shape Data:\",X.shape)\n",
        "print(f\"Shape Label:\",y.shape)\n",
        "print(f\"Format and element of Label is:\",set(y))"
      ]
    },
    {
      "cell_type": "code",
      "execution_count": 3,
      "metadata": {
        "id": "rbCMa7zqEOcP"
      },
      "outputs": [],
      "source": [
        "#  Split Data\n",
        "from sklearn.model_selection import train_test_split\n",
        "X_train, X_test, y_train, y_test = train_test_split(X,y, test_size=0.2, random_state=0)"
      ]
    },
    {
      "cell_type": "code",
      "execution_count": 4,
      "metadata": {
        "id": "uzTpNGaHWlDI",
        "colab": {
          "base_uri": "https://localhost:8080/",
          "height": 0
        },
        "outputId": "9bbcd816-814d-4e0c-f99b-94214633fd19"
      },
      "outputs": [
        {
          "output_type": "execute_result",
          "data": {
            "text/plain": [
              "{'M1', 'M2', 'M3', 'M5'}"
            ]
          },
          "metadata": {},
          "execution_count": 4
        }
      ],
      "source": [
        "set(y_train)"
      ]
    },
    {
      "cell_type": "markdown",
      "metadata": {
        "id": "MCgprexsjNo-"
      },
      "source": [
        "### Support Vector Machines"
      ]
    },
    {
      "cell_type": "markdown",
      "metadata": {
        "id": "RTf0I8-gKVjv"
      },
      "source": [
        "##SVC\n",
        "C-Support Vector Classification\n",
        "\n",
        "\n",
        "```\n",
        " پیاده سازی بر اساس\n",
        " استlibsvm\n",
        "```\n",
        " C is Regularization parameter. The strength of the regularization is inversely proportional to C. Must be strictly positive. The penalty is a squared l2 penalty."
      ]
    },
    {
      "cell_type": "markdown",
      "metadata": {
        "id": "u5uykQmBba_p"
      },
      "source": [
        "kernel{‘linear’, ‘poly’, ‘rbf’, ‘sigmoid’, ‘precomputed’} or callable, default=’rbf’\n",
        "\n",
        "    Specifies the kernel type to be used in the algorithm. If none is given, ‘rbf’ will be used. If a callable is given it is used to pre-compute the kernel matrix from data matrices; that matrix should be an array of shape (n_samples, n_samples).\n"
      ]
    },
    {
      "cell_type": "code",
      "execution_count": 18,
      "metadata": {
        "id": "ohHjxM4xR40z",
        "colab": {
          "base_uri": "https://localhost:8080/",
          "height": 0
        },
        "outputId": "15c5157f-7075-4c3c-9cd9-af96cd1b768a"
      },
      "outputs": [
        {
          "output_type": "stream",
          "name": "stdout",
          "text": [
            "Accuracy score: 0.775\n",
            "Classification Report of Model is               precision    recall  f1-score   support\n",
            "\n",
            "          M1       0.71      0.72      0.72       392\n",
            "          M2       0.73      0.72      0.73       398\n",
            "          M3       0.80      0.78      0.79       411\n",
            "          M5       0.85      0.87      0.86       399\n",
            "\n",
            "    accuracy                           0.78      1600\n",
            "   macro avg       0.77      0.77      0.77      1600\n",
            "weighted avg       0.77      0.78      0.77      1600\n",
            "\n",
            "Confusion Matrix is : [[284  50  25  33]\n",
            " [ 53 286  44  15]\n",
            " [ 27  48 321  15]\n",
            " [ 35   6   9 349]]\n",
            "Time taken to run the model: 353.7031993865967 seconds\n"
          ]
        }
      ],
      "source": [
        "tart_time = time.time()#Time taken to run the model\n",
        "\n",
        "#Create Model\n",
        "SVC_Model = SVC(kernel='linear', C=200,random_state=42)\n",
        "SVC_Model.fit(X_train, y_train)\n",
        "#Test phase SVM\n",
        "y_pred = SVC_Model.predict(X_test)\n",
        "#  Confusion Matrix\n",
        "cm = metrics.confusion_matrix(y_test, y_pred)\n",
        "accuracy = metrics.accuracy_score(y_test, y_pred)\n",
        "print(\"Accuracy score:\",accuracy)\n",
        "print(\"Classification Report of Model is\",classification_report(y_test, y_pred))\n",
        "print(\"Confusion Matrix is :\",cm)\n",
        "accuracy = metrics.accuracy_score(y_test, y_pred)\n",
        "\n",
        "end_time = time.time()#For Time taken to run the model\n",
        "execution_time = end_time - start_time#For Time taken to run the model\n",
        "print(f\"Time taken to run the model: {execution_time} seconds\")\n"
      ]
    },
    {
      "cell_type": "code",
      "execution_count": 19,
      "metadata": {
        "id": "OL4qWLe1OMzc",
        "colab": {
          "base_uri": "https://localhost:8080/",
          "height": 0
        },
        "outputId": "c5098575-ff8a-451c-e4ae-11d63c6f4eba"
      },
      "outputs": [
        {
          "output_type": "stream",
          "name": "stdout",
          "text": [
            "y_pred[: 20]: ['M3' 'M5' 'M1' 'M5' 'M3' 'M5' 'M2' 'M5' 'M5' 'M1' 'M2' 'M3' 'M1' 'M2'\n",
            " 'M1' 'M3' 'M2' 'M2' 'M2' 'M2']\n",
            "y_Exact[: 20]: ['M3' 'M5' 'M1' 'M5' 'M3' 'M5' 'M2' 'M5' 'M5' 'M1' 'M2' 'M2' 'M1' 'M2'\n",
            " 'M1' 'M3' 'M2' 'M2' 'M2' 'M3']\n"
          ]
        }
      ],
      "source": [
        "print(\"y_pred[: 20]:\",y_pred[: 20])\n",
        "print(\"y_Exact[: 20]:\",y_test[: 20])"
      ]
    },
    {
      "cell_type": "markdown",
      "metadata": {
        "id": "w7lZ3971SEEr"
      },
      "source": [
        "##NuSVC"
      ]
    },
    {
      "cell_type": "code",
      "execution_count": 20,
      "metadata": {
        "id": "BZNIErpNT-dM",
        "colab": {
          "base_uri": "https://localhost:8080/",
          "height": 0
        },
        "outputId": "c61d03d1-70e4-4a55-d924-1d4928ee7530"
      },
      "outputs": [
        {
          "output_type": "stream",
          "name": "stdout",
          "text": [
            "Accuracy score: 0.698125\n",
            "Classification Report of Model is               precision    recall  f1-score   support\n",
            "\n",
            "          M1       0.71      0.73      0.72       392\n",
            "          M2       0.72      0.48      0.58       398\n",
            "          M3       0.63      0.84      0.72       411\n",
            "          M5       0.77      0.73      0.75       399\n",
            "\n",
            "    accuracy                           0.70      1600\n",
            "   macro avg       0.71      0.70      0.69      1600\n",
            "weighted avg       0.71      0.70      0.69      1600\n",
            "\n",
            "Confusion Matrix is : [[286  29  25  52]\n",
            " [ 59 193 116  30]\n",
            " [ 23  36 347   5]\n",
            " [ 34   9  65 291]]\n",
            "Time taken to run the model: 8.331690549850464 seconds\n"
          ]
        }
      ],
      "source": [
        "start_time = time.time()#Time taken to run the model\n",
        "\n",
        "#Create Model\n",
        "NuSVC_model = svm.NuSVC(gamma=\"auto\")\n",
        "NuSVC_model.fit(X_train, y_train)\n",
        "#Test phase SVM\n",
        "y_pred = NuSVC_model.predict(X_test)\n",
        "#  Confusion Matrix\n",
        "cm = metrics.confusion_matrix(y_test, y_pred)\n",
        "accuracy = metrics.accuracy_score(y_test, y_pred)\n",
        "print(\"Accuracy score:\",accuracy)\n",
        "print(\"Classification Report of Model is\",classification_report(y_test, y_pred))\n",
        "print(\"Confusion Matrix is :\",cm)\n",
        "accuracy = metrics.accuracy_score(y_test, y_pred)\n",
        "\n",
        "end_time = time.time()#For Time taken to run the model\n",
        "execution_time = end_time - start_time#For Time taken to run the model\n",
        "print(f\"Time taken to run the model: {execution_time} seconds\")\n"
      ]
    },
    {
      "cell_type": "markdown",
      "metadata": {
        "id": "ONTgiGC_0WgU"
      },
      "source": [
        "##Linear SVC"
      ]
    },
    {
      "cell_type": "code",
      "execution_count": 21,
      "metadata": {
        "id": "DGf77UnI3TtP",
        "colab": {
          "base_uri": "https://localhost:8080/",
          "height": 0
        },
        "outputId": "12bbef1c-edcd-493a-d22d-8d4901e9d33e"
      },
      "outputs": [
        {
          "output_type": "stream",
          "name": "stdout",
          "text": [
            "Accuracy score: 0.58625\n",
            "Classification Report of Model is               precision    recall  f1-score   support\n",
            "\n",
            "          M1       0.35      0.02      0.04       392\n",
            "          M2       0.50      0.55      0.52       398\n",
            "          M3       0.62      0.84      0.71       411\n",
            "          M5       0.63      0.92      0.75       399\n",
            "\n",
            "    accuracy                           0.59      1600\n",
            "   macro avg       0.52      0.58      0.51      1600\n",
            "weighted avg       0.53      0.59      0.51      1600\n",
            "\n",
            "Confusion Matrix is : [[  8 176  59 149]\n",
            " [  5 219 140  34]\n",
            " [  3  35 345  28]\n",
            " [  7  10  16 366]]\n",
            "Time taken to run the model: 14.316454410552979 seconds\n"
          ]
        },
        {
          "output_type": "stream",
          "name": "stderr",
          "text": [
            "/usr/local/lib/python3.10/dist-packages/sklearn/svm/_base.py:1244: ConvergenceWarning: Liblinear failed to converge, increase the number of iterations.\n",
            "  warnings.warn(\n"
          ]
        }
      ],
      "source": [
        "start_time = time.time()#Time taken to run the model\n",
        "\n",
        "#Create Model\n",
        "linear_SVC_Model = LinearSVC( random_state=0, tol=1e-05,penalty='l2', loss='squared_hinge', dual=True)\n",
        "linear_SVC_Model.fit(X_train, y_train)\n",
        "#Test phase SVM\n",
        "y_pred = linear_SVC_Model.predict(X_test)\n",
        "#  Confusion Matrix\n",
        "cm = metrics.confusion_matrix(y_test, y_pred)\n",
        "accuracy = metrics.accuracy_score(y_test, y_pred)\n",
        "print(\"Accuracy score:\",accuracy)\n",
        "print(\"Classification Report of Model is\",classification_report(y_test, y_pred))\n",
        "print(\"Confusion Matrix is :\",cm)\n",
        "accuracy = metrics.accuracy_score(y_test, y_pred)\n",
        "\n",
        "end_time = time.time()#For Time taken to run the model\n",
        "execution_time = end_time - start_time#For Time taken to run the model\n",
        "print(f\"Time taken to run the model: {execution_time} seconds\")"
      ]
    },
    {
      "cell_type": "code",
      "execution_count": 22,
      "metadata": {
        "id": "3kYp_065d4VL",
        "colab": {
          "base_uri": "https://localhost:8080/",
          "height": 0
        },
        "outputId": "dbdc7df9-c71e-4267-9d34-46c83fd02499"
      },
      "outputs": [
        {
          "output_type": "stream",
          "name": "stdout",
          "text": [
            "Time taken to run the model: 4.57763671875e-05 seconds\n"
          ]
        }
      ],
      "source": [
        "\n",
        "import time\n",
        "\n",
        "start_time = time.time()\n",
        "\n",
        "# Your model code here\n",
        "\n",
        "end_time = time.time()\n",
        "execution_time = end_time - start_time\n",
        "\n",
        "print(f\"Time taken to run the model: {execution_time} seconds\")\n"
      ]
    },
    {
      "cell_type": "markdown",
      "metadata": {
        "id": "xV2-2hoTO8ri"
      },
      "source": [
        "## K_Nearest Neighbors Classification\n",
        "#KNeighborsClassifier\n",
        "\n",
        "Classifier implementing the k-nearest neighbors vote.\n",
        "KNeighborsClassifier implements learning based on the **k**  nearest neighbors of each query point, where **k** is an integer value specified by the user."
      ]
    },
    {
      "cell_type": "code",
      "execution_count": 5,
      "metadata": {
        "id": "NEh-chq-Wbio"
      },
      "outputs": [],
      "source": [
        "\n",
        "from sklearn.neighbors import KNeighborsClassifier\n",
        "from sklearn.metrics import classification_report\n",
        "from sklearn.model_selection import cross_val_score"
      ]
    },
    {
      "cell_type": "markdown",
      "metadata": {
        "id": "gwFBRP_bLlnI"
      },
      "source": [
        "#K_D Tree algorithm used to compute nearest neighbors.\n",
        "To address the computational inefficiencies of the brute-force approach, a variety of tree-based data structures have been invented.In general, these structures attempt to reduce the required number of distance calculations by efficiently encoding aggregate distance information for the sample.\n",
        "[link text](https://dl.acm.org/doi/10.1145/361002.361007)"
      ]
    },
    {
      "cell_type": "code",
      "execution_count": 6,
      "metadata": {
        "id": "Uk2FpzFXWIwt",
        "colab": {
          "base_uri": "https://localhost:8080/",
          "height": 0
        },
        "outputId": "d35cd25b-2f06-4988-9009-5d83f6bbb39f"
      },
      "outputs": [
        {
          "output_type": "stream",
          "name": "stdout",
          "text": [
            "Accuracy score: 0.753125\n",
            "Classification Report of Model is               precision    recall  f1-score   support\n",
            "\n",
            "          M1       0.61      0.80      0.69       392\n",
            "          M2       0.78      0.62      0.69       398\n",
            "          M3       0.89      0.79      0.83       411\n",
            "          M5       0.78      0.81      0.80       399\n",
            "\n",
            "    accuracy                           0.75      1600\n",
            "   macro avg       0.77      0.75      0.75      1600\n",
            "weighted avg       0.77      0.75      0.75      1600\n",
            "\n",
            "Confusion Matrix is : [[313  30  10  39]\n",
            " [104 246  17  31]\n",
            " [ 41  28 323  19]\n",
            " [ 51  12  13 323]]\n",
            "Time taken to run the model: 2.3683784008026123 seconds\n"
          ]
        }
      ],
      "source": [
        "start_time = time.time()#Time taken to run the model\n",
        "\n",
        "#Create Model\n",
        "#applying built-in function / p is related Minkowski metric\n",
        "knn = KNeighborsClassifier(n_neighbors=4, algorithm='kd_tree', p=1)\n",
        "knn.fit(X_train, y_train)\n",
        "#Test phase KNN\n",
        "y_pred = knn.predict(X_test)\n",
        "#  Confusion Matrix\n",
        "cm = metrics.confusion_matrix(y_test, y_pred)\n",
        "accuracy = metrics.accuracy_score(y_test, y_pred)\n",
        "print(\"Accuracy score:\",accuracy)\n",
        "print(\"Classification Report of Model is\",classification_report(y_test, y_pred))\n",
        "print(\"Confusion Matrix is :\",cm)\n",
        "accuracy = metrics.accuracy_score(y_test, y_pred)\n",
        "\n",
        "end_time = time.time()#For Time taken to run the model\n",
        "execution_time = end_time - start_time#For Time taken to run the model\n",
        "print(f\"Time taken to run the model: {execution_time} seconds\")\n"
      ]
    },
    {
      "cell_type": "code",
      "execution_count": 7,
      "metadata": {
        "id": "uE7pxAdvbbEO",
        "colab": {
          "base_uri": "https://localhost:8080/",
          "height": 333
        },
        "outputId": "405c44e8-4cef-4520-f022-59ee53147cd2"
      },
      "outputs": [
        {
          "output_type": "display_data",
          "data": {
            "text/plain": [
              "<Figure size 400x300 with 1 Axes>"
            ],
            "image/png": "[encoded data removed]"
          },
          "metadata": {}
        }
      ],
      "source": [
        "#تصویر ماتریس برهم ریختگی در «أأ\n",
        "import matplotlib.pyplot as plt\n",
        "import seaborn as sns\n",
        "\n",
        "# Visualize the Confusion Matrix\n",
        "plt.figure(figsize=(4, 3))\n",
        "sns.heatmap(cm, annot=True, cmap='Blues', fmt='g', cbar=False)\n",
        "plt.xlabel('Predicted labels')\n",
        "plt.ylabel('True labels')\n",
        "plt.title('Confusion Matrix in KNN')\n",
        "plt.show()\n"
      ]
    },
    {
      "cell_type": "markdown",
      "metadata": {
        "id": "1d4BWcihPXCc"
      },
      "source": [
        "#Ball Tree algorithm used to compute nearest neighbors."
      ]
    },
    {
      "cell_type": "code",
      "execution_count": 8,
      "metadata": {
        "id": "nAFti_ocQHYT",
        "colab": {
          "base_uri": "https://localhost:8080/",
          "height": 0
        },
        "outputId": "636b1e2a-d2f9-433c-f3a4-1f4ed0894b52"
      },
      "outputs": [
        {
          "output_type": "stream",
          "name": "stdout",
          "text": [
            "Accuracy score: 0.753125\n",
            "Classification Report of Model is               precision    recall  f1-score   support\n",
            "\n",
            "          M1       0.61      0.80      0.69       392\n",
            "          M2       0.78      0.62      0.69       398\n",
            "          M3       0.89      0.79      0.83       411\n",
            "          M5       0.78      0.81      0.80       399\n",
            "\n",
            "    accuracy                           0.75      1600\n",
            "   macro avg       0.77      0.75      0.75      1600\n",
            "weighted avg       0.77      0.75      0.75      1600\n",
            "\n",
            "Confusion Matrix is : [[313  30  10  39]\n",
            " [104 246  17  31]\n",
            " [ 41  28 323  19]\n",
            " [ 51  12  13 323]]\n",
            "Time taken to run the model: 1.5773038864135742 seconds\n"
          ]
        }
      ],
      "source": [
        "start_time = time.time()#Time taken to run the model\n",
        "\n",
        "#Create Model\n",
        "#applying built-in function / p is related Minkowski metric\n",
        "knn = KNeighborsClassifier(n_neighbors=4, algorithm='ball_tree', p=1)\n",
        "knn.fit(X_train, y_train)\n",
        "#Test phase KNN\n",
        "y_pred = knn.predict(X_test)\n",
        "#  Confusion Matrix\n",
        "cm = metrics.confusion_matrix(y_test, y_pred)\n",
        "accuracy = metrics.accuracy_score(y_test, y_pred)\n",
        "print(\"Accuracy score:\",accuracy)\n",
        "print(\"Classification Report of Model is\",classification_report(y_test, y_pred))\n",
        "print(\"Confusion Matrix is :\",cm)\n",
        "accuracy = metrics.accuracy_score(y_test, y_pred)\n",
        "\n",
        "end_time = time.time()#For Time taken to run the model\n",
        "execution_time = end_time - start_time#For Time taken to run the model\n",
        "print(f\"Time taken to run the model: {execution_time} seconds\")\n"
      ]
    },
    {
      "cell_type": "markdown",
      "metadata": {
        "id": "oYEXhLh0RkKe"
      },
      "source": [
        "#Brute algorithm used to compute nearest neighbors."
      ]
    },
    {
      "cell_type": "code",
      "execution_count": 9,
      "metadata": {
        "id": "MfUCF-T7RlrM",
        "colab": {
          "base_uri": "https://localhost:8080/",
          "height": 0
        },
        "outputId": "93cdb491-ff52-416a-cc2e-b60b2b22ba60"
      },
      "outputs": [
        {
          "output_type": "stream",
          "name": "stdout",
          "text": [
            "Accuracy score: 0.753125\n",
            "Classification Report of Model is               precision    recall  f1-score   support\n",
            "\n",
            "          M1       0.61      0.80      0.69       392\n",
            "          M2       0.78      0.62      0.69       398\n",
            "          M3       0.89      0.79      0.83       411\n",
            "          M5       0.78      0.81      0.80       399\n",
            "\n",
            "    accuracy                           0.75      1600\n",
            "   macro avg       0.77      0.75      0.75      1600\n",
            "weighted avg       0.77      0.75      0.75      1600\n",
            "\n",
            "Confusion Matrix is : [[313  30  10  39]\n",
            " [104 246  17  31]\n",
            " [ 41  28 323  19]\n",
            " [ 51  12  13 323]]\n",
            "Time taken to run the model: 1.4919030666351318 seconds\n"
          ]
        }
      ],
      "source": [
        "start_time = time.time()#Time taken to run the model\n",
        "\n",
        "#Create Model\n",
        "#applying built-in function / p is related Minkowski metric\n",
        "knn = KNeighborsClassifier(n_neighbors=4, algorithm='brute', p=1)\n",
        "knn.fit(X_train, y_train)\n",
        "#Test phase KNN\n",
        "y_pred = knn.predict(X_test)\n",
        "#  Confusion Matrix\n",
        "cm = metrics.confusion_matrix(y_test, y_pred)\n",
        "accuracy = metrics.accuracy_score(y_test, y_pred)\n",
        "print(\"Accuracy score:\",accuracy)\n",
        "print(\"Classification Report of Model is\",classification_report(y_test, y_pred))\n",
        "print(\"Confusion Matrix is :\",cm)\n",
        "accuracy = metrics.accuracy_score(y_test, y_pred)\n",
        "\n",
        "end_time = time.time()#For Time taken to run the model\n",
        "execution_time = end_time - start_time#For Time taken to run the model\n",
        "print(f\"Time taken to run the model: {execution_time} seconds\")\n"
      ]
    },
    {
      "cell_type": "markdown",
      "metadata": {
        "id": "OMTQch5HZsLh"
      },
      "source": [
        "algorithm : {'auto', 'ball_tree', 'kd_tree', 'brute'}, default='auto'\n",
        "    Algorithm used to compute the nearest neighbors:"
      ]
    },
    {
      "cell_type": "markdown",
      "metadata": {
        "id": "Dh-xL5OHaGRM"
      },
      "source": [
        "#Logistic Regression"
      ]
    },
    {
      "cell_type": "code",
      "execution_count": 10,
      "metadata": {
        "id": "-O5qWcF7ZKqd",
        "colab": {
          "base_uri": "https://localhost:8080/",
          "height": 75
        },
        "outputId": "6b1c4c01-c9c5-4c51-a5a1-e4c756625ef8"
      },
      "outputs": [
        {
          "output_type": "execute_result",
          "data": {
            "text/plain": [
              "LogisticRegression(random_state=0, solver='liblinear')"
            ],
            "text/html": [
              "<style>#sk-container-id-1 {color: black;background-color: white;}#sk-container-id-1 pre{padding: 0;}#sk-container-id-1 div.sk-toggleable {background-color: white;}#sk-container-id-1 label.sk-toggleable__label {cursor: pointer;display: block;width: 100%;margin-bottom: 0;padding: 0.3em;box-sizing: border-box;text-align: center;}#sk-container-id-1 label.sk-toggleable__label-arrow:before {content: \"▸\";float: left;margin-right: 0.25em;color: #696969;}#sk-container-id-1 label.sk-toggleable__label-arrow:hover:before {color: black;}#sk-container-id-1 div.sk-estimator:hover label.sk-toggleable__label-arrow:before {color: black;}#sk-container-id-1 div.sk-toggleable__content {max-height: 0;max-width: 0;overflow: hidden;text-align: left;background-color: #f0f8ff;}#sk-container-id-1 div.sk-toggleable__content pre {margin: 0.2em;color: black;border-radius: 0.25em;background-color: #f0f8ff;}#sk-container-id-1 input.sk-toggleable__control:checked~div.sk-toggleable__content {max-height: 200px;max-width: 100%;overflow: auto;}#sk-container-id-1 input.sk-toggleable__control:checked~label.sk-toggleable__label-arrow:before {content: \"▾\";}#sk-container-id-1 div.sk-estimator input.sk-toggleable__control:checked~label.sk-toggleable__label {background-color: #d4ebff;}#sk-container-id-1 div.sk-label input.sk-toggleable__control:checked~label.sk-toggleable__label {background-color: #d4ebff;}#sk-container-id-1 input.sk-hidden--visually {border: 0;clip: rect(1px 1px 1px 1px);clip: rect(1px, 1px, 1px, 1px);height: 1px;margin: -1px;overflow: hidden;padding: 0;position: absolute;width: 1px;}#sk-container-id-1 div.sk-estimator {font-family: monospace;background-color: #f0f8ff;border: 1px dotted black;border-radius: 0.25em;box-sizing: border-box;margin-bottom: 0.5em;}#sk-container-id-1 div.sk-estimator:hover {background-color: #d4ebff;}#sk-container-id-1 div.sk-parallel-item::after {content: \"\";width: 100%;border-bottom: 1px solid gray;flex-grow: 1;}#sk-container-id-1 div.sk-label:hover label.sk-toggleable__label {background-color: #d4ebff;}#sk-container-id-1 div.sk-serial::before {content: \"\";position: absolute;border-left: 1px solid gray;box-sizing: border-box;top: 0;bottom: 0;left: 50%;z-index: 0;}#sk-container-id-1 div.sk-serial {display: flex;flex-direction: column;align-items: center;background-color: white;padding-right: 0.2em;padding-left: 0.2em;position: relative;}#sk-container-id-1 div.sk-item {position: relative;z-index: 1;}#sk-container-id-1 div.sk-parallel {display: flex;align-items: stretch;justify-content: center;background-color: white;position: relative;}#sk-container-id-1 div.sk-item::before, #sk-container-id-1 div.sk-parallel-item::before {content: \"\";position: absolute;border-left: 1px solid gray;box-sizing: border-box;top: 0;bottom: 0;left: 50%;z-index: -1;}#sk-container-id-1 div.sk-parallel-item {display: flex;flex-direction: column;z-index: 1;position: relative;background-color: white;}#sk-container-id-1 div.sk-parallel-item:first-child::after {align-self: flex-end;width: 50%;}#sk-container-id-1 div.sk-parallel-item:last-child::after {align-self: flex-start;width: 50%;}#sk-container-id-1 div.sk-parallel-item:only-child::after {width: 0;}#sk-container-id-1 div.sk-dashed-wrapped {border: 1px dashed gray;margin: 0 0.4em 0.5em 0.4em;box-sizing: border-box;padding-bottom: 0.4em;background-color: white;}#sk-container-id-1 div.sk-label label {font-family: monospace;font-weight: bold;display: inline-block;line-height: 1.2em;}#sk-container-id-1 div.sk-label-container {text-align: center;}#sk-container-id-1 div.sk-container {/* jupyter's `normalize.less` sets `[hidden] { display: none; }` but bootstrap.min.css set `[hidden] { display: none !important; }` so we also need the `!important` here to be able to override the default hidden behavior on the sphinx rendered scikit-learn.org. See: https://github.com/scikit-learn/scikit-learn/issues/21755 */display: inline-block !important;position: relative;}#sk-container-id-1 div.sk-text-repr-fallback {display: none;}</style><div id=\"sk-container-id-1\" class=\"sk-top-container\"><div class=\"sk-text-repr-fallback\"><pre>LogisticRegression(random_state=0, solver=&#x27;liblinear&#x27;)</pre><b>In a Jupyter environment, please rerun this cell to show the HTML representation or trust the notebook. <br />On GitHub, the HTML representation is unable to render, please try loading this page with nbviewer.org.</b></div><div class=\"sk-container\" hidden><div class=\"sk-item\"><div class=\"sk-estimator sk-toggleable\"><input class=\"sk-toggleable__control sk-hidden--visually\" id=\"sk-estimator-id-1\" type=\"checkbox\" checked><label for=\"sk-estimator-id-1\" class=\"sk-toggleable__label sk-toggleable__label-arrow\">LogisticRegression</label><div class=\"sk-toggleable__content\"><pre>LogisticRegression(random_state=0, solver=&#x27;liblinear&#x27;)</pre></div></div></div></div></div>"
            ]
          },
          "metadata": {},
          "execution_count": 10
        }
      ],
      "source": [
        "# Step 5 - Logistic Regression Classifier\n",
        "from sklearn.linear_model import LogisticRegression\n",
        "LG_classifier = LogisticRegression(random_state=0, solver=\"liblinear\")\n",
        "LG_classifier.fit(X_train, y_train)"
      ]
    },
    {
      "cell_type": "code",
      "execution_count": 11,
      "metadata": {
        "id": "vUfjXO0caNBf",
        "colab": {
          "base_uri": "https://localhost:8080/",
          "height": 0
        },
        "outputId": "9265d801-8a12-45d8-9975-bfe6dd5a249a"
      },
      "outputs": [
        {
          "output_type": "stream",
          "name": "stdout",
          "text": [
            "classifier.score with solver liblinear is : 0.7375\n",
            "              precision    recall  f1-score   support\n",
            "\n",
            "          M1       0.78      0.61      0.68       392\n",
            "          M2       0.69      0.62      0.65       398\n",
            "          M3       0.68      0.83      0.75       411\n",
            "          M5       0.81      0.88      0.84       399\n",
            "\n",
            "    accuracy                           0.74      1600\n",
            "   macro avg       0.74      0.74      0.73      1600\n",
            "weighted avg       0.74      0.74      0.73      1600\n",
            "\n"
          ]
        }
      ],
      "source": [
        "# Step 5 - Logistic Regression Classifier\n",
        "from sklearn.linear_model import LogisticRegression\n",
        "LG_classifier = LogisticRegression(random_state=0, solver=\"liblinear\",penalty='l1')\n",
        "LG_classifier.fit(X_train, y_train)\n",
        "#TEST phase\n",
        "y_pred = LG_classifier.predict(X_test)\n",
        "print(\"classifier.score with solver liblinear is :\",LG_classifier.score(X_test, y_test))\n",
        "print(classification_report(y_test, y_pred))"
      ]
    },
    {
      "cell_type": "code",
      "execution_count": 12,
      "metadata": {
        "id": "SOAgGWVH2oYl",
        "colab": {
          "base_uri": "https://localhost:8080/",
          "height": 0
        },
        "outputId": "e22656e3-063e-4808-fbd3-59c9bcaabcd7"
      },
      "outputs": [
        {
          "output_type": "stream",
          "name": "stdout",
          "text": [
            "classifier.score with solver saga is : 0.68\n",
            "              precision    recall  f1-score   support\n",
            "\n",
            "          M1       0.85      0.56      0.68       392\n",
            "          M2       0.64      0.49      0.56       398\n",
            "          M3       0.61      0.86      0.71       411\n",
            "          M5       0.70      0.80      0.75       399\n",
            "\n",
            "    accuracy                           0.68      1600\n",
            "   macro avg       0.70      0.68      0.67      1600\n",
            "weighted avg       0.70      0.68      0.67      1600\n",
            "\n"
          ]
        },
        {
          "output_type": "stream",
          "name": "stderr",
          "text": [
            "/usr/local/lib/python3.10/dist-packages/sklearn/linear_model/_sag.py:350: ConvergenceWarning: The max_iter was reached which means the coef_ did not converge\n",
            "  warnings.warn(\n"
          ]
        }
      ],
      "source": [
        "from sklearn.linear_model import LogisticRegression\n",
        "LG_classifier = LogisticRegression(random_state=0, solver=\"saga\",penalty='l1')\n",
        "LG_classifier.fit(X_train, y_train)\n",
        "#\n",
        "y_pred = LG_classifier.predict(X_test)\n",
        "print(\"classifier.score with solver saga is :\",LG_classifier.score(X_test, y_test))\n",
        "print(classification_report(y_test, y_pred))\n"
      ]
    },
    {
      "cell_type": "code",
      "execution_count": 13,
      "metadata": {
        "id": "xWNGO3aBwqMc",
        "colab": {
          "base_uri": "https://localhost:8080/",
          "height": 0
        },
        "outputId": "fece8a78-38ed-43e2-c727-e37d89150609"
      },
      "outputs": [
        {
          "output_type": "stream",
          "name": "stdout",
          "text": [
            "classifier.score with solver saga is : 0.640625\n",
            "              precision    recall  f1-score   support\n",
            "\n",
            "          M1       0.51      0.51      0.51       392\n",
            "          M2       0.51      0.72      0.60       398\n",
            "          M3       0.77      0.70      0.73       411\n",
            "          M5       0.91      0.63      0.75       399\n",
            "\n",
            "    accuracy                           0.64      1600\n",
            "   macro avg       0.68      0.64      0.65      1600\n",
            "weighted avg       0.68      0.64      0.65      1600\n",
            "\n"
          ]
        }
      ],
      "source": [
        "from sklearn.linear_model import SGDClassifier\n",
        "SGD_classifier = SGDClassifier(random_state=0,max_iter=1000, tol=1e-3,penalty='l1')\n",
        "SGD_classifier.fit(X_train, y_train)\n",
        "#\n",
        "y_pred = SGD_classifier.predict(X_test)\n",
        "print(\"classifier.score with solver saga is :\",SGD_classifier.score(X_test, y_test))\n",
        "print(classification_report(y_test, y_pred))"
      ]
    },
    {
      "cell_type": "code",
      "execution_count": null,
      "metadata": {
        "id": "N2w_5JxYSKKC"
      },
      "outputs": [],
      "source": [
        "!gdown --id 1Sc6K9szbSxVSjRGM32OMrmKAhXh3fReS\n",
        "#read csv file\n",
        "Dorfaki_test = pd.read_csv('/content/T4.csv')"
      ]
    }
  ],
  "metadata": {
    "colab": {
      "provenance": []
    },
    "kernelspec": {
      "display_name": "Python 3",
      "name": "python3"
    },
    "language_info": {
      "codemirror_mode": {
        "name": "ipython",
        "version": 3
      },
      "file_extension": ".py",
      "mimetype": "text/x-python",
      "name": "python",
      "nbconvert_exporter": "python",
      "pygments_lexer": "ipython3",
      "version": "3.9.12"
    }
  },
  "nbformat": 4,
  "nbformat_minor": 0
}